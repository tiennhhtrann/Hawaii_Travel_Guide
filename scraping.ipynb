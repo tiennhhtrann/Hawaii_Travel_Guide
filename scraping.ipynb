{
 "cells": [
  {
   "cell_type": "markdown",
   "metadata": {},
   "source": [
    "## Scrape Hawaii City Names"
   ]
  },
  {
   "cell_type": "code",
   "execution_count": 1,
   "metadata": {},
   "outputs": [],
   "source": [
    "# Dependencies\n",
    "from bs4 import BeautifulSoup\n",
    "import requests\n",
    "import os\n",
    "import pandas as pd"
   ]
  },
  {
   "cell_type": "code",
   "execution_count": 2,
   "metadata": {},
   "outputs": [],
   "source": [
    "# URL to scrape\n",
    "url = 'https://www.countryaah.com/alphabetical-list-of-cities-and-towns-in-hawaii/'\n",
    "\n",
    "# Retrieve page with the requests module\n",
    "html = requests.get(url)\n",
    "# Create BeautifulSoup object; parse with 'html.parser'\n",
    "soup = BeautifulSoup(html.text, 'html.parser')"
   ]
  },
  {
   "cell_type": "code",
   "execution_count": 3,
   "metadata": {},
   "outputs": [],
   "source": [
    "table_data = soup.find(class_='entry-content').find_all('ul')[0]"
   ]
  },
  {
   "cell_type": "code",
   "execution_count": 4,
   "metadata": {},
   "outputs": [],
   "source": [
    "cities_ls = []\n",
    "\n",
    "for data in table_data:\n",
    "    try:\n",
    "        if data.text[-1] == 'I':\n",
    "            cities_ls.append(data.text[:-4])\n",
    "    except:\n",
    "        continue\n"
   ]
  },
  {
   "cell_type": "markdown",
   "metadata": {},
   "source": [
    "## Call OpenWeatherAPI and Store Weather Data in sqlite"
   ]
  },
  {
   "cell_type": "code",
   "execution_count": 5,
   "metadata": {},
   "outputs": [],
   "source": [
    "from config import api_key\n",
    "import json\n",
    "import requests\n",
    "\n",
    "url = \"http://api.openweathermap.org/data/2.5/weather?\" + \"appid=\" + api_key + \"&q=\""
   ]
  },
  {
   "cell_type": "code",
   "execution_count": 6,
   "metadata": {},
   "outputs": [],
   "source": [
    "from sqlalchemy import create_engine\n",
    "from sqlalchemy.ext.declarative import declarative_base\n",
    "Base = declarative_base()\n",
    "from sqlalchemy import Column, Integer, String, Float\n",
    "\n",
    "\n",
    "class WeatherReading(Base):\n",
    "    __tablename__ = 'weather'\n",
    "    city_name = Column(String(255), primary_key=True)\n",
    "    main_weather = Column(String(255))\n",
    "    temperature = Column(Float)\n",
    "    humidity = Column(Float)\n",
    "    cloudiness = Column(Float)\n",
    "    wind_speed = Column(Float)\n",
    "\n",
    "engine = create_engine(\"sqlite:///weather.sqlite\")\n",
    "conn = engine.connect()\n",
    "\n"
   ]
  },
  {
   "cell_type": "code",
   "execution_count": 7,
   "metadata": {},
   "outputs": [
    {
     "name": "stdout",
     "output_type": "stream",
     "text": [
      "Processing ‘Aiea\n",
      "Processing Anahola\n",
      "Processing Captain Cook\n",
      "Processing Eleele\n",
      "Processing ‘Ewa Beach\n",
      "Processing Hale‘iwa\n",
      "Processing Hana\n",
      "Processing Hanalei\n",
      "Processing Hanamaulu\n",
      "Processing Hanapēpē\n",
      "Processing Hau‘ula\n",
      "Processing Hāwī\n",
      "Processing Hilo\n",
      "Processing Holualoa\n",
      "'name'\n",
      "Processing Honoka‘a\n",
      "Processing Honolulu\n",
      "Processing Honomu\n",
      "Processing Kaaawa\n",
      "Processing Kahuku\n",
      "Processing Kahului\n",
      "Processing Kailua\n",
      "Processing Kalāheo\n",
      "Processing Kaneohe\n",
      "Processing Kapaa\n",
      "Processing Kapaau\n",
      "'name'\n",
      "Processing Kaunakakai\n",
      "Processing Kea‘au\n",
      "Processing Kealakekua\n",
      "Processing Kekaha\n",
      "Processing Kīhei\n",
      "Processing Kilauea\n",
      "Processing Koloa\n",
      "Processing Kualapu‘u\n",
      "Processing Kurtistown\n",
      "Processing Lahaina\n",
      "Processing Lā‘ie\n",
      "Processing Lanai City\n",
      "'name'\n",
      "Processing Lawai\n",
      "Processing Lihue\n",
      "Processing Makawao\n",
      "Processing Maunaloa\n",
      "Processing Mililani\n",
      "Processing Mountain View\n",
      "Processing Naalehu\n",
      "'name'\n",
      "Processing Pāhala\n",
      "'name'\n",
      "Processing Paia\n",
      "Processing Pāpa‘ikou\n",
      "Processing Pearl City\n",
      "Processing Pepeekeo\n",
      "Processing Princeville\n",
      "Processing Pukalani\n",
      "Processing Schofield Barracks\n",
      "Processing Volcano Village\n",
      "Processing Wahiawā\n",
      "Processing Waialua\n",
      "Processing Waianae\n",
      "Processing Waikoloa\n",
      "Processing Wailuku\n",
      "Processing Waimanalo\n",
      "Processing Waimea\n",
      "Processing Waipahu\n"
     ]
    }
   ],
   "source": [
    "weather_ls = []\n",
    "for city in cities_ls:\n",
    "    query_url = url + city+ \"&units=imperial\"\n",
    "    weather_json = requests.get(query_url).json()\n",
    "    try:\n",
    "        print(f\"Processing {weather_json['name']}\")\n",
    "        weather_reading = WeatherReading(\n",
    "            city_name = city,\n",
    "            main_weather = weather_json['weather'][0]['main'],\n",
    "            temperature = round(weather_json['main']['temp'], 1),\n",
    "            humidity = weather_json['main']['humidity'],\n",
    "            cloudiness = weather_json['clouds']['all'],\n",
    "            wind_speed = weather_json['wind']['speed']\n",
    "        )\n",
    "        weather_ls.append(weather_reading)\n",
    "    except Exception as e:\n",
    "        print(e)\n"
   ]
  },
  {
   "cell_type": "code",
   "execution_count": 8,
   "metadata": {},
   "outputs": [],
   "source": [
    "# store data in sqlite\n",
    "from sqlalchemy.orm import Session\n",
    "Base.metadata.create_all(conn)\n",
    "\n",
    "session = Session(bind=engine)\n",
    "for item in weather_ls:\n",
    "    session.add(item)\n",
    "session.commit()\n",
    "\n",
    "\n",
    "\n",
    "session.close()\n",
    "\n"
   ]
  },
  {
   "cell_type": "code",
   "execution_count": 9,
   "metadata": {},
   "outputs": [
    {
     "data": {
      "text/html": [
       "<div>\n",
       "<style scoped>\n",
       "    .dataframe tbody tr th:only-of-type {\n",
       "        vertical-align: middle;\n",
       "    }\n",
       "\n",
       "    .dataframe tbody tr th {\n",
       "        vertical-align: top;\n",
       "    }\n",
       "\n",
       "    .dataframe thead th {\n",
       "        text-align: right;\n",
       "    }\n",
       "</style>\n",
       "<table border=\"1\" class=\"dataframe\">\n",
       "  <thead>\n",
       "    <tr style=\"text-align: right;\">\n",
       "      <th></th>\n",
       "      <th>city_name</th>\n",
       "      <th>main_weather</th>\n",
       "      <th>temperature</th>\n",
       "      <th>humidity</th>\n",
       "      <th>cloudiness</th>\n",
       "      <th>wind_speed</th>\n",
       "    </tr>\n",
       "  </thead>\n",
       "  <tbody>\n",
       "    <tr>\n",
       "      <th>0</th>\n",
       "      <td>Aiea</td>\n",
       "      <td>Clouds</td>\n",
       "      <td>77.3</td>\n",
       "      <td>72.0</td>\n",
       "      <td>40.0</td>\n",
       "      <td>9.22</td>\n",
       "    </tr>\n",
       "    <tr>\n",
       "      <th>1</th>\n",
       "      <td>Anahola</td>\n",
       "      <td>Clouds</td>\n",
       "      <td>75.8</td>\n",
       "      <td>76.0</td>\n",
       "      <td>20.0</td>\n",
       "      <td>14.97</td>\n",
       "    </tr>\n",
       "    <tr>\n",
       "      <th>2</th>\n",
       "      <td>Captain Cook</td>\n",
       "      <td>Rain</td>\n",
       "      <td>74.3</td>\n",
       "      <td>85.0</td>\n",
       "      <td>71.0</td>\n",
       "      <td>4.81</td>\n",
       "    </tr>\n",
       "    <tr>\n",
       "      <th>3</th>\n",
       "      <td>Eleele</td>\n",
       "      <td>Clouds</td>\n",
       "      <td>77.5</td>\n",
       "      <td>71.0</td>\n",
       "      <td>88.0</td>\n",
       "      <td>11.77</td>\n",
       "    </tr>\n",
       "    <tr>\n",
       "      <th>4</th>\n",
       "      <td>Ewa Beach</td>\n",
       "      <td>Clear</td>\n",
       "      <td>77.9</td>\n",
       "      <td>67.0</td>\n",
       "      <td>0.0</td>\n",
       "      <td>9.22</td>\n",
       "    </tr>\n",
       "  </tbody>\n",
       "</table>\n",
       "</div>"
      ],
      "text/plain": [
       "      city_name main_weather  temperature  humidity  cloudiness  wind_speed\n",
       "0          Aiea       Clouds         77.3      72.0        40.0        9.22\n",
       "1       Anahola       Clouds         75.8      76.0        20.0       14.97\n",
       "2  Captain Cook         Rain         74.3      85.0        71.0        4.81\n",
       "3        Eleele       Clouds         77.5      71.0        88.0       11.77\n",
       "4     Ewa Beach        Clear         77.9      67.0         0.0        9.22"
      ]
     },
     "execution_count": 9,
     "metadata": {},
     "output_type": "execute_result"
    }
   ],
   "source": [
    "Base.metadata.create_all(conn)\n",
    "\n",
    "session = Session(bind=engine)\n",
    "df = pd.read_sql_query(\"SELECT * from weather\", conn)\n",
    "session.close()\n",
    "df.head()\n"
   ]
  },
  {
   "cell_type": "code",
   "execution_count": 11,
   "metadata": {},
   "outputs": [],
   "source": [
    "#df.to_html(\"weather_data.html\", index=False)"
   ]
  },
  {
   "cell_type": "code",
   "execution_count": null,
   "metadata": {},
   "outputs": [],
   "source": []
  }
 ],
 "metadata": {
  "kernelspec": {
   "display_name": "Python 3.9.12 ('base')",
   "language": "python",
   "name": "python3"
  },
  "language_info": {
   "codemirror_mode": {
    "name": "ipython",
    "version": 3
   },
   "file_extension": ".py",
   "mimetype": "text/x-python",
   "name": "python",
   "nbconvert_exporter": "python",
   "pygments_lexer": "ipython3",
   "version": "3.9.12"
  },
  "orig_nbformat": 4,
  "vscode": {
   "interpreter": {
    "hash": "30b1c3b492f40982a7e28b3d0ce22bed4c462ba3c1154a8be24fedf63069c4c6"
   }
  }
 },
 "nbformat": 4,
 "nbformat_minor": 2
}
